{
 "cells": [
  {
   "cell_type": "code",
   "execution_count": 1,
   "metadata": {},
   "outputs": [
    {
     "name": "stdout",
     "output_type": "stream",
     "text": [
      "41\n",
      "201\n",
      "202\n",
      "203\n",
      "42\n",
      "0\n"
     ]
    }
   ],
   "source": [
    "nc,ns = [int(x) for x in input().split()]\n",
    "stdclass = {}\n",
    "que = []\n",
    "classque = []\n",
    "current = 0\n",
    "for i in range(ns):\n",
    "    c,s = [x for x in input().split()]\n",
    "    stdclass[s] = c\n",
    "order = input().split()\n",
    "while order[0] != \"X\":\n",
    "    if order[0] == \"E\":\n",
    "        id = order[1]\n",
    "        if stdclass[id] not in classque:\n",
    "            classque.append(stdclass[id])\n",
    "            que.append([])\n",
    "        que[classque.index(stdclass[id])]+= [id]\n",
    "    elif order[0] == \"D\":\n",
    "        if len(que) > 1:\n",
    "            if len(que[0])>1:\n",
    "                result = que[0][0]\n",
    "                que[0] = que[0][1:]\n",
    "            else:\n",
    "                result = que[0][0]\n",
    "                que = que[1:]\n",
    "                classque = classque[1:]\n",
    "        elif len(que) == 1:\n",
    "            if len(que[0])>1:\n",
    "                result = que[0][0]\n",
    "                que[0] = que[0][1:]\n",
    "            else:\n",
    "                result = que[0][0]\n",
    "                que = []\n",
    "                classque = []\n",
    "        else:\n",
    "            result = \"empty\"\n",
    "        print(result)\n",
    "    order = input().split()\n",
    "print(0)"
   ]
  }
 ],
 "metadata": {
  "interpreter": {
   "hash": "3fc9252392d51ed94f75380a19a1006f508ba12c8246c59d4742af54347ab397"
  },
  "kernelspec": {
   "display_name": "Python 3.10.0 64-bit",
   "language": "python",
   "name": "python3"
  },
  "language_info": {
   "codemirror_mode": {
    "name": "ipython",
    "version": 3
   },
   "file_extension": ".py",
   "mimetype": "text/x-python",
   "name": "python",
   "nbconvert_exporter": "python",
   "pygments_lexer": "ipython3",
   "version": "3.10.0"
  },
  "orig_nbformat": 4
 },
 "nbformat": 4,
 "nbformat_minor": 2
}
