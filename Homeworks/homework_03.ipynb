{
 "cells": [
  {
   "cell_type": "code",
   "execution_count": 36,
   "metadata": {},
   "outputs": [
    {
     "data": {
      "text/plain": [
       "\"19. Namespaces are one honking great idea -- let's do more of those!\\n18. If the implementation is easy to explain, it may be a good idea.\\n17. If the implementation is hard to explain, it's a bad idea.\\n16. Although never is often better than *right* now.\\n15. Now is better than never.\\n14. Although that way may not be obvious at first unless you're Dutch.\\n13.There should be one-- and preferably only one --obvious way to do it.\\n12. In the face of ambiguity, refuse the temptation to guess.\\n11. Unless explicitly silenced.\\n10. Errors should never pass silently.\\n9. Although practicality beats purity.\\n8. Special cases aren't special enough to break the rules.\\n7. Readability counts.\\n6. Sparse is better than dense.\\n5. Flat is better than nested.0\\n4. Complex is better than complicated.\\n3. Simple is better than complex.\\n2. Explicit is better than implicit.\\n1. Beautiful is better than ugly.\\n\""
      ]
     },
     "execution_count": 36,
     "metadata": {},
     "output_type": "execute_result"
    }
   ],
   "source": [
    "f = open('D:\\zen_of_python.txt')\n",
    "f.read()"
   ]
  },
  {
   "cell_type": "code",
   "execution_count": 37,
   "metadata": {},
   "outputs": [
    {
     "name": "stdout",
     "output_type": "stream",
     "text": [
      " 1: 19. Namespaces are one honking great idea -- let's do more of those!\n",
      " 2: 18. If the implementation is easy to explain, it may be a good idea.\n",
      " 3: 17. If the implementation is hard to explain, it's a bad idea.\n",
      " 4: 16. Although never is often better than *right* now.\n",
      " 5: 15. Now is better than never.\n",
      " 6: 14. Although that way may not be obvious at first unless you're Dutch.\n",
      " 7: 13.There should be one-- and preferably only one --obvious way to do it.\n",
      " 8: 12. In the face of ambiguity, refuse the temptation to guess.\n",
      " 9: 11. Unless explicitly silenced.\n",
      " 10: 10. Errors should never pass silently.\n",
      " 11: 9. Although practicality beats purity.\n",
      " 12: 8. Special cases aren't special enough to break the rules.\n",
      " 13: 7. Readability counts.\n",
      " 14: 6. Sparse is better than dense.\n",
      " 15: 5. Flat is better than nested.0\n",
      " 16: 4. Complex is better than complicated.\n",
      " 17: 3. Simple is better than complex.\n",
      " 18: 2. Explicit is better than implicit.\n",
      " 19: 1. Beautiful is better than ugly.\n"
     ]
    }
   ],
   "source": [
    "with open('D:\\zen_of_python.txt') as fp:  \n",
    "    line = fp.readline()\n",
    "    cnt = 1\n",
    "    while line:\n",
    "        print(\" {}: {}\".format(cnt, line.strip()))\n",
    "        line = fp.readline()\n",
    "        cnt += 1"
   ]
  },
  {
   "cell_type": "code",
   "execution_count": 38,
   "metadata": {},
   "outputs": [
    {
     "name": "stdout",
     "output_type": "stream",
     "text": [
      "19. Namespaces are one honking great idea -- let's do more of those!\n",
      "18. If the implementation is easy to explain, it may be a good idea.\n",
      "17. If the implementation is hard to explain, it's a bad idea.\n",
      "16. Although never is often better than *right* now.\n",
      "15. Now is better than never.\n",
      "14. Although that way may not be obvious at first unless you're Dutch.\n",
      "13.There should be one-- and preferably only one --obvious way to do it.\n",
      "12. In the face of ambiguity, refuse the temptation to guess.\n",
      "11. Unless explicitly silenced.\n",
      "10. Errors should never pass silently.\n",
      "9. Although practicality beats purity.\n",
      "8. Special cases aren't special enough to break the rules.\n",
      "7. Readability counts.\n",
      "6. Sparse is better than dense.\n",
      "5. Flat is better than nested.0\n",
      "4. Complex is better than complicated.\n",
      "3. Simple is better than complex.\n",
      "2. Explicit is better than implicit.\n",
      "1. Beautiful is better than ugly.\n"
     ]
    }
   ],
   "source": [
    "data = [\n",
    "    \"19. Namespaces are one honking great idea -- let's do more of those!\",\n",
    "    \"18. If the implementation is easy to explain, it may be a good idea.\",\n",
    "    \"17. If the implementation is hard to explain, it's a bad idea.\",\n",
    "    \"16. Although never is often better than *right* now.\",\n",
    "    \"15. Now is better than never.\",\n",
    "    \"14. Although that way may not be obvious at first unless you're Dutch.\",\n",
    "    \"13.There should be one-- and preferably only one --obvious way to do it.\",\n",
    "    \"12. In the face of ambiguity, refuse the temptation to guess.\",\n",
    "    \"11. Unless explicitly silenced.\",\n",
    "    \"10. Errors should never pass silently.\",\n",
    "    \"9. Although practicality beats purity.\",\n",
    "    \"8. Special cases aren't special enough to break the rules.\",\n",
    "    \"7. Readability counts.\",\n",
    "    \"6. Sparse is better than dense.\",\n",
    "    \"5. Flat is better than nested.0\",\n",
    "    \"4. Complex is better than complicated.\",\n",
    "    \"3. Simple is better than complex.\",\n",
    "    \"2. Explicit is better than implicit.\",\n",
    "    \"1. Beautiful is better than ugly.\",\n",
    "]\n",
    "\n",
    "with open('D:\\zen_of_python.txt', 'w') as fp:\n",
    "    for line in data:\n",
    "        fp.write(line+\"\\n\")\n",
    "        \n",
    "with open('D:\\zen_of_python.txt', 'r') as fp:  \n",
    "    line = fp.readline()\n",
    "    while line:\n",
    "        print(\"{}\".format(line.strip()))\n",
    "        line = fp.readline()"
   ]
  },
  {
   "cell_type": "markdown",
   "metadata": {},
   "source": [
    "zen_of_python"
   ]
  },
  {
   "cell_type": "markdown",
   "metadata": {},
   "source": [
    "title_zen_of_python"
   ]
  },
  {
   "cell_type": "code",
   "execution_count": 39,
   "metadata": {},
   "outputs": [
    {
     "name": "stdout",
     "output_type": "stream",
     "text": [
      "['PEP:', '20']\n",
      "['Title:', 'The Zen of Python']\n",
      "['Author:', 'tim.peters at gmail.com (Tim Peters)']\n",
      "['Status:', 'Active']\n",
      "['Type:', 'Informational']\n",
      "['Created:', '19-?.?.-04']\n",
      "['Post-History:', '22-?.?.-04']\n"
     ]
    }
   ],
   "source": [
    "import csv\n",
    " \n",
    "with open('D:/file.csv') as csvDataFile:\n",
    "    csvReader = csv.reader(csvDataFile)\n",
    "    for row in csvReader:\n",
    "        print(row)\n",
    "        \n"
   ]
  },
  {
   "cell_type": "code",
   "execution_count": 40,
   "metadata": {},
   "outputs": [
    {
     "name": "stdout",
     "output_type": "stream",
     "text": [
      "['PEP:', 'Title:', 'Author:', 'Status:', 'Type:', 'Created:', 'Post-History:']\n",
      "['20', 'The Zen of Python', 'tim.peters at gmail.com (Tim Peters)', 'Active', 'Informational', '19-?.?.-04', '22-?.?.-04']\n"
     ]
    }
   ],
   "source": [
    "import csv\n",
    " \n",
    "dates = []\n",
    "scores = []\n",
    " \n",
    "with open('D:/file.csv') as csvDataFile:\n",
    "    csvReader = csv.reader(csvDataFile)\n",
    "    for row in csvReader:\n",
    "        dates.append(row[0])\n",
    "        scores.append(row[1])\n",
    " \n",
    "print(dates)\n",
    "print(scores)"
   ]
  },
  {
   "cell_type": "code",
   "execution_count": 41,
   "metadata": {},
   "outputs": [
    {
     "name": "stdout",
     "output_type": "stream",
     "text": [
      "Writing complete\n"
     ]
    }
   ],
   "source": [
    "import csv\n",
    " \n",
    "myData = [[\"first_name\", \"second_name\", \"Grade\"],\n",
    "          ['Alex', 'Brian', 'A'],\n",
    "          ['Tom', 'Smith', 'B']]\n",
    " \n",
    "with open('D:/file.csv', 'w') as myFile:\n",
    "    writer = csv.writer(myFile)\n",
    "    writer.writerows(myData)\n",
    "     \n",
    "print(\"Writing complete\")"
   ]
  },
  {
   "cell_type": "markdown",
   "metadata": {},
   "source": []
  }
 ],
 "metadata": {
  "interpreter": {
   "hash": "3fc9252392d51ed94f75380a19a1006f508ba12c8246c59d4742af54347ab397"
  },
  "kernelspec": {
   "display_name": "Python 3.10.0 64-bit",
   "language": "python",
   "name": "python3"
  },
  "language_info": {
   "codemirror_mode": {
    "name": "ipython",
    "version": 3
   },
   "file_extension": ".py",
   "mimetype": "text/x-python",
   "name": "python",
   "nbconvert_exporter": "python",
   "pygments_lexer": "ipython3",
   "version": "3.10.0"
  },
  "orig_nbformat": 4
 },
 "nbformat": 4,
 "nbformat_minor": 2
}
