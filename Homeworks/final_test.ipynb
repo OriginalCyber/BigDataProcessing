{
 "cells": [
  {
   "cell_type": "markdown",
   "metadata": {},
   "source": [
    "ข้อสอบปลายภาควิชาการประมวลผลข้อมูลขนาดใหญ่\n",
    "1. จงสร้าง ndarray ดังนี้"
   ]
  },
  {
   "cell_type": "code",
   "execution_count": 14,
   "metadata": {},
   "outputs": [
    {
     "data": {
      "text/plain": [
       "'\\narray([[4.   , 3.285, 3.5  , 4.   ],\\n       [3.2  , 3.8  , 4.   , 4.   ],\\n       [3.96 , 3.92 , 4.   , 4.   ]], dtype=float16)\\n'"
      ]
     },
     "execution_count": 14,
     "metadata": {},
     "output_type": "execute_result"
    }
   ],
   "source": [
    "'''\n",
    "array([[4.   , 3.285, 3.5  , 4.   ],\n",
    "       [3.2  , 3.8  , 4.   , 4.   ],\n",
    "       [3.96 , 3.92 , 4.   , 4.   ]], dtype=float16)\n",
    "'''"
   ]
  },
  {
   "cell_type": "code",
   "execution_count": 15,
   "metadata": {},
   "outputs": [
    {
     "ename": "NameError",
     "evalue": "name 'float16' is not defined",
     "output_type": "error",
     "traceback": [
      "\u001b[1;31m---------------------------------------------------------------------------\u001b[0m",
      "\u001b[1;31mNameError\u001b[0m                                 Traceback (most recent call last)",
      "\u001b[1;32md:\\studiocode\\BigDataProcessing\\Homeworks\\final_test.ipynb Cell 3'\u001b[0m in \u001b[0;36m<module>\u001b[1;34m\u001b[0m\n\u001b[0;32m      <a href='vscode-notebook-cell:/d%3A/studiocode/BigDataProcessing/Homeworks/final_test.ipynb#ch0000010?line=0'>1</a>\u001b[0m \u001b[39mimport\u001b[39;00m \u001b[39mnumpy\u001b[39;00m \u001b[39mas\u001b[39;00m \u001b[39mnp\u001b[39;00m\n\u001b[0;32m      <a href='vscode-notebook-cell:/d%3A/studiocode/BigDataProcessing/Homeworks/final_test.ipynb#ch0000010?line=2'>3</a>\u001b[0m a \u001b[39m=\u001b[39m np\u001b[39m.\u001b[39marray([[\u001b[39m4.\u001b[39m   , \u001b[39m3.285\u001b[39m, \u001b[39m3.5\u001b[39m  , \u001b[39m4.\u001b[39m   ],\n\u001b[0;32m      <a href='vscode-notebook-cell:/d%3A/studiocode/BigDataProcessing/Homeworks/final_test.ipynb#ch0000010?line=3'>4</a>\u001b[0m        [\u001b[39m3.2\u001b[39m  , \u001b[39m3.8\u001b[39m  , \u001b[39m4.\u001b[39m   , \u001b[39m4.\u001b[39m   ],\n\u001b[1;32m----> <a href='vscode-notebook-cell:/d%3A/studiocode/BigDataProcessing/Homeworks/final_test.ipynb#ch0000010?line=4'>5</a>\u001b[0m        [\u001b[39m3.96\u001b[39m , \u001b[39m3.92\u001b[39m , \u001b[39m4.\u001b[39m   , \u001b[39m4.\u001b[39m   ]], dtype\u001b[39m=\u001b[39mfloat16)    \u001b[39m# สร้าง array 1 มิติ\u001b[39;00m\n\u001b[0;32m      <a href='vscode-notebook-cell:/d%3A/studiocode/BigDataProcessing/Homeworks/final_test.ipynb#ch0000010?line=6'>7</a>\u001b[0m \u001b[39mprint\u001b[39m(a)\n",
      "\u001b[1;31mNameError\u001b[0m: name 'float16' is not defined"
     ]
    }
   ],
   "source": [
    "import numpy as np\n",
    " \n",
    "a = np.array([[4.   , 3.285, 3.5  , 4.   ],\n",
    "       [3.2  , 3.8  , 4.   , 4.   ],\n",
    "       [3.96 , 3.92 , 4.   , 4.   ]], dtype=float16)    \n",
    "\n",
    "print(a)   \n"
   ]
  },
  {
   "cell_type": "code",
   "execution_count": null,
   "metadata": {},
   "outputs": [],
   "source": []
  },
  {
   "cell_type": "code",
   "execution_count": null,
   "metadata": {},
   "outputs": [],
   "source": []
  },
  {
   "cell_type": "code",
   "execution_count": null,
   "metadata": {},
   "outputs": [],
   "source": []
  },
  {
   "cell_type": "code",
   "execution_count": null,
   "metadata": {},
   "outputs": [],
   "source": []
  },
  {
   "cell_type": "code",
   "execution_count": null,
   "metadata": {},
   "outputs": [],
   "source": []
  },
  {
   "cell_type": "code",
   "execution_count": null,
   "metadata": {},
   "outputs": [],
   "source": []
  },
  {
   "cell_type": "code",
   "execution_count": null,
   "metadata": {},
   "outputs": [],
   "source": []
  },
  {
   "cell_type": "code",
   "execution_count": null,
   "metadata": {},
   "outputs": [],
   "source": []
  },
  {
   "cell_type": "code",
   "execution_count": null,
   "metadata": {},
   "outputs": [],
   "source": []
  }
 ],
 "metadata": {
  "interpreter": {
   "hash": "3fc9252392d51ed94f75380a19a1006f508ba12c8246c59d4742af54347ab397"
  },
  "kernelspec": {
   "display_name": "Python 3.10.0 64-bit",
   "language": "python",
   "name": "python3"
  },
  "language_info": {
   "codemirror_mode": {
    "name": "ipython",
    "version": 3
   },
   "file_extension": ".py",
   "mimetype": "text/x-python",
   "name": "python",
   "nbconvert_exporter": "python",
   "pygments_lexer": "ipython3",
   "version": "3.10.2"
  },
  "orig_nbformat": 4
 },
 "nbformat": 4,
 "nbformat_minor": 2
}
