{
 "cells": [
  {
   "cell_type": "code",
   "execution_count": 1,
   "metadata": {},
   "outputs": [
    {
     "name": "stdout",
     "output_type": "stream",
     "text": [
      "ค่าใช้จ่ายรวม : 11\n"
     ]
    }
   ],
   "source": [
    "import math\n",
    "n = input(\"ความยาวสนาม\")\n",
    "m = input(\"ตวามกว้างสนาม\")\n",
    "l = input(\"ค่าน้ำมัน\")\n",
    "k = input(\"จำนวนครั้งที่บิน\")\n",
    "c = input(\"จำนวนคน\")\n",
    "\n",
    "sum = int(k)*int(c)*int(l)\n",
    "\n",
    "n = int(n)*int(m)\n",
    "sum_light = 0\n",
    "\n",
    "while (n != 0) :\n",
    "    light = input(\"ค่าไฟ:\")\n",
    "    light = int (light)\n",
    "    sum_light += light\n",
    "    n = n-1\n",
    "\n",
    "print(\"ค่าใช้จ่ายรวม :\", math.ceil(sum_light + sum))"
   ]
  }
 ],
 "metadata": {
  "interpreter": {
   "hash": "3fc9252392d51ed94f75380a19a1006f508ba12c8246c59d4742af54347ab397"
  },
  "kernelspec": {
   "display_name": "Python 3.10.0 64-bit",
   "language": "python",
   "name": "python3"
  },
  "language_info": {
   "codemirror_mode": {
    "name": "ipython",
    "version": 3
   },
   "file_extension": ".py",
   "mimetype": "text/x-python",
   "name": "python",
   "nbconvert_exporter": "python",
   "pygments_lexer": "ipython3",
   "version": "3.10.0"
  },
  "orig_nbformat": 4
 },
 "nbformat": 4,
 "nbformat_minor": 2
}
