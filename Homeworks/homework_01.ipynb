{
 "cells": [
  {
   "cell_type": "code",
   "execution_count": 3,
   "metadata": {},
   "outputs": [
    {
     "name": "stdout",
     "output_type": "stream",
     "text": [
      "0 x 1 = 0\n",
      "0 x 2 = 0\n",
      "0 x 3 = 0\n",
      "0 x 4 = 0\n",
      "0 x 5 = 0\n",
      "0 x 6 = 0\n",
      "0 x 7 = 0\n",
      "0 x 8 = 0\n",
      "0 x 9 = 0\n",
      "0 x 10 = 0\n",
      "0 x 11 = 0\n",
      "0 x 12 = 0\n",
      "นายชวดล มนตรี 6212732102\n"
     ]
    }
   ],
   "source": [
    "number = int(input(\"กรุณาเลือกแม่สูตรคูณที่ต้องการ : \"))\n",
    "for  i in range(1,13):\n",
    "    result = number*i\n",
    "    print(\"%d x %d = %d\"%(number,i,result))\n",
    "print (\"นายชวดล มนตรี 6212732102\")"
   ]
  }
 ],
 "metadata": {
  "interpreter": {
   "hash": "aa4a30df05256cf4dbf496732d9f87e0e514bc8d2a66754cda5276df338b5e44"
  },
  "kernelspec": {
   "display_name": "Python 3.9.8 64-bit (windows store)",
   "name": "python3"
  },
  "language_info": {
   "codemirror_mode": {
    "name": "ipython",
    "version": 3
   },
   "file_extension": ".py",
   "mimetype": "text/x-python",
   "name": "python",
   "nbconvert_exporter": "python",
   "pygments_lexer": "ipython3",
   "version": "3.9.8"
  },
  "orig_nbformat": 4
 },
 "nbformat": 4,
 "nbformat_minor": 2
}
