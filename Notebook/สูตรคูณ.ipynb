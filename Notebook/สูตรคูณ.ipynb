{
 "cells": [
  {
   "cell_type": "markdown",
   "metadata": {},
   "source": [
    "# Welcome to Jupyter!"
   ]
  },
  {
   "cell_type": "code",
   "execution_count": 1,
   "metadata": {},
   "outputs": [
    {
     "name": "stdout",
     "output_type": "stream",
     "text": [
      "2 x 1 = 2\n",
      "2 x 2 = 4\n",
      "2 x 3 = 6\n",
      "2 x 4 = 8\n",
      "2 x 5 = 10\n",
      "2 x 6 = 12\n",
      "2 x 7 = 14\n",
      "2 x 8 = 16\n",
      "2 x 9 = 18\n",
      "2 x 10 = 20\n",
      "2 x 11 = 22\n",
      "2 x 12 = 24\n",
      "นายชวดล มนตรี 6212732102\n"
     ]
    }
   ],
   "source": [
    "number = int(input(\"กรุณาเลือกแม่สูตรคูณที่ต้องการ : \"))\n",
    "for  i in range(1,13):\n",
    "    result = number*i\n",
    "    print(\"%d x %d = %d\"%(number,i,result))\n",
    "print (\"นายชวดล มนตรี 6212732102\")"
   ]
  }
 ],
 "metadata": {
  "interpreter": {
   "hash": "aa4a30df05256cf4dbf496732d9f87e0e514bc8d2a66754cda5276df338b5e44"
  },
  "kernelspec": {
   "display_name": "Python 3.9.8 64-bit (windows store)",
   "name": "python3"
  },
  "language_info": {
   "codemirror_mode": {
    "name": "ipython",
    "version": 3
   },
   "file_extension": ".py",
   "mimetype": "text/x-python",
   "name": "python",
   "nbconvert_exporter": "python",
   "pygments_lexer": "ipython3",
   "version": "3.9.8"
  }
 },
 "nbformat": 4,
 "nbformat_minor": 2
}
